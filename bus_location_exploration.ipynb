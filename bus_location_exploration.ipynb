{
 "cells": [
  {
   "cell_type": "markdown",
   "id": "12321d8e",
   "metadata": {},
   "source": [
    "# Bus Location Data API Exploration\n",
    "\n",
    "This notebook explores the bus location data using the MOT SIRI API directly."
   ]
  },
  {
   "cell_type": "code",
   "execution_count": null,
   "id": "c1bb4f1d",
   "metadata": {
    "lines_to_next_cell": 1
   },
   "outputs": [],
   "source": [
    "import pandas as pd\n",
    "import datetime\n",
    "from dateutil import tz\n",
    "import requests\n",
    "import plotly.express as px\n",
    "import plotly.graph_objects as go\n",
    "import json\n",
    "\n",
    "# Configure pandas display options\n",
    "pd.options.display.max_columns = 1000\n",
    "pd.options.display.max_colwidth = 1000\n",
    "pd.set_option('display.unicode.east_asian_width', True)\n",
    "\n",
    "# API Configuration\n",
    "SIRI_BASE_URL = \"https://gtfs.mot.gov.il/api/v1\""
   ]
  },
  {
   "cell_type": "markdown",
   "id": "48325ce2",
   "metadata": {},
   "source": [
    "## Helper Functions"
   ]
  },
  {
   "cell_type": "code",
   "execution_count": null,
   "id": "9a3ebed4",
   "metadata": {
    "lines_to_next_cell": 1
   },
   "outputs": [],
   "source": [
    "def localize_dates(data, dt_columns=None):\n",
    "    \"\"\"Convert datetime columns to Israel timezone\"\"\"\n",
    "    if dt_columns is None:\n",
    "        dt_columns = []\n",
    "    \n",
    "    data = data.copy()\n",
    "    for c in dt_columns:\n",
    "        data[c] = pd.to_datetime(data[c]).dt.tz_convert('Israel')\n",
    "    \n",
    "    return data\n",
    "\n",
    "def get_routes(date=None):\n",
    "    \"\"\"Get routes from MOT API\"\"\"\n",
    "    if date is None:\n",
    "        date = datetime.datetime.now().strftime('%Y-%m-%d')\n",
    "    \n",
    "    response = requests.get(f\"{SIRI_BASE_URL}/gtfs/routes\")\n",
    "    if response.status_code == 200:\n",
    "        return pd.DataFrame(response.json())\n",
    "    else:\n",
    "        print(f\"Error fetching routes: {response.status_code}\")\n",
    "        return pd.DataFrame()\n",
    "\n",
    "def get_vehicle_locations(route_id=None, limit=1000):\n",
    "    \"\"\"Get real-time vehicle locations from SIRI API\"\"\"\n",
    "    params = {\n",
    "        'route_id': route_id,\n",
    "        'limit': limit\n",
    "    }\n",
    "    \n",
    "    response = requests.get(f\"{SIRI_BASE_URL}/siri/vehicle-locations\", params=params)\n",
    "    if response.status_code == 200:\n",
    "        return pd.DataFrame(response.json().get('locations', []))\n",
    "    else:\n",
    "        print(f\"Error fetching vehicle locations: {response.status_code}\")\n",
    "        return pd.DataFrame()"
   ]
  },
  {
   "cell_type": "markdown",
   "id": "b1a516e4",
   "metadata": {},
   "source": [
    "## 1. Exploring Bus Routes\n",
    "\n",
    "Let's first look at the available bus routes data"
   ]
  },
  {
   "cell_type": "code",
   "execution_count": null,
   "id": "15d323e9",
   "metadata": {},
   "outputs": [],
   "source": [
    "# Get routes\n",
    "routes = get_routes()\n",
    "\n",
    "print(f\"Total number of routes: {len(routes)}\")\n",
    "if not routes.empty:\n",
    "    print(\"\\nUnique agencies:\")\n",
    "    print(routes['agency_name'].value_counts())"
   ]
  },
  {
   "cell_type": "markdown",
   "id": "9700b604",
   "metadata": {},
   "source": [
    "### 1.1 Analyzing Route Details"
   ]
  },
  {
   "cell_type": "code",
   "execution_count": null,
   "id": "f50e55dc",
   "metadata": {},
   "outputs": [],
   "source": [
    "# Display key information about routes\n",
    "if not routes.empty:\n",
    "    route_summary = routes[['route_short_name', 'route_long_name', 'agency_name']].head(10)\n",
    "    display(route_summary)"
   ]
  },
  {
   "cell_type": "markdown",
   "id": "b65bb421",
   "metadata": {},
   "source": [
    "## 2. Vehicle Location Analysis\n",
    "\n",
    "Now let's explore real-time vehicle location data"
   ]
  },
  {
   "cell_type": "code",
   "execution_count": null,
   "id": "ca045af9",
   "metadata": {},
   "outputs": [],
   "source": [
    "# Get vehicle locations for a specific route\n",
    "vehicle_locations = get_vehicle_locations(route_id='15531')  # Example route ID\n",
    "\n",
    "if not vehicle_locations.empty:\n",
    "    # Localize datetime columns if they exist\n",
    "    dt_columns = [col for col in vehicle_locations.columns if 'time' in col.lower()]\n",
    "    vehicle_locations = localize_dates(vehicle_locations, dt_columns)\n",
    "\n",
    "    print(f\"Number of location records: {len(vehicle_locations)}\")\n",
    "    display(vehicle_locations.head())"
   ]
  },
  {
   "cell_type": "markdown",
   "id": "3a283a48",
   "metadata": {},
   "source": [
    "### 2.1 Visualizing Vehicle Locations"
   ]
  },
  {
   "cell_type": "code",
   "execution_count": null,
   "id": "0428e9dc",
   "metadata": {},
   "outputs": [],
   "source": [
    "# Create a scatter map of vehicle locations\n",
    "if not vehicle_locations.empty and 'latitude' in vehicle_locations.columns:\n",
    "    fig = px.scatter_mapbox(\n",
    "        vehicle_locations,\n",
    "        lat='latitude',\n",
    "        lon='longitude',\n",
    "        hover_data=['recorded_at_time', 'vehicle_ref'] if 'recorded_at_time' in vehicle_locations.columns else None,\n",
    "        zoom=11\n",
    "    )\n",
    "    \n",
    "    fig.update_layout(\n",
    "        mapbox_style=\"open-street-map\",\n",
    "        margin={\"r\":0,\"t\":0,\"l\":0,\"b\":0}\n",
    "    )\n",
    "    \n",
    "    fig.show()"
   ]
  },
  {
   "cell_type": "markdown",
   "id": "ea04eeab",
   "metadata": {},
   "source": [
    "## 3. Advanced Analysis\n",
    "\n",
    "Let's analyze some patterns in the data"
   ]
  },
  {
   "cell_type": "code",
   "execution_count": null,
   "id": "9c536acc",
   "metadata": {},
   "outputs": [],
   "source": [
    "if not vehicle_locations.empty and 'recorded_at_time' in vehicle_locations.columns:\n",
    "    # Time-based analysis\n",
    "    vehicle_locations['hour'] = pd.to_datetime(vehicle_locations['recorded_at_time']).dt.hour\n",
    "    hourly_counts = vehicle_locations['hour'].value_counts().sort_index()\n",
    "    \n",
    "    fig = px.bar(x=hourly_counts.index, y=hourly_counts.values,\n",
    "                 labels={'x': 'Hour of Day', 'y': 'Number of Records'},\n",
    "                 title='Distribution of Vehicle Location Records by Hour')\n",
    "    fig.show()"
   ]
  },
  {
   "cell_type": "markdown",
   "id": "794db024",
   "metadata": {},
   "source": [
    "## 4. API Endpoints Reference\n",
    "\n",
    "Main endpoints used in this analysis:\n",
    "- `/gtfs/routes`: Get information about bus routes\n",
    "- `/siri/vehicle-locations`: Get real-time vehicle location data\n",
    "\n",
    "Key parameters:\n",
    "- `route_id`: Filter locations by specific route\n",
    "- `limit`: Maximum number of records to return "
   ]
  }
 ],
 "metadata": {
  "jupytext": {
   "cell_metadata_filter": "-all",
   "main_language": "python",
   "notebook_metadata_filter": "-all"
  }
 },
 "nbformat": 4,
 "nbformat_minor": 5
}
